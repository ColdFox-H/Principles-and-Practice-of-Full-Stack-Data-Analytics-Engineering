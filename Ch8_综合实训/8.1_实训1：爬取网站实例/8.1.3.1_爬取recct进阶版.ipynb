{
 "cells": [
  {
   "cell_type": "code",
   "execution_count": 1,
   "metadata": {},
   "outputs": [],
   "source": [
    "# 使用selenium框架爬取网站内容\n",
    "# 进阶版：爬取网站页面的静态内容\n",
    "# chromedrive下载网址：https://npm.taobao.org/mirrors/chromedrive\n",
    "# by种花家的狐狸 @41721084"
   ]
  },
  {
   "cell_type": "code",
   "execution_count": 2,
   "metadata": {},
   "outputs": [],
   "source": [
    "# 导入所需库\n",
    "from selenium import webdriver\n",
    "from selenium.webdriver.chrome.options import Options\n",
    "import csv\n",
    "import random\n",
    "import time"
   ]
  },
  {
   "cell_type": "code",
   "execution_count": 3,
   "metadata": {},
   "outputs": [],
   "source": [
    "# 初始化虚拟浏览器并返回driver\n",
    "def Driver():\n",
    "    # 虚拟浏览器的参数设置\n",
    "    chrome_options=Options()\n",
    "    chrome_options.add_argument('--headless')   #无头chrome\n",
    "    prefs={'profile.managed_default_content_settings.images':2}   #限制加载图片\n",
    "    chrome_options.add_experimental_option(\"prefs\",prefs)\n",
    "    # 原文用的chrome_option,现在参数改成了option\n",
    "    driver=webdriver.Chrome(r\"C:\\Program Files (x86)\\Google\\Chrome\\Application\\chromedriver.exe\",options=chrome_options)\n",
    "    return driver"
   ]
  },
  {
   "cell_type": "code",
   "execution_count": 4,
   "metadata": {},
   "outputs": [],
   "source": [
    "# 数据存储\n",
    "def save(n,d,h,c):\n",
    "    f=open('./result_进阶版.csv','a',newline='',encoding='utf-8-sig')\n",
    "    writer = csv.writer(f)\n",
    "    lis=[n,d,h,c]\n",
    "    writer.writerow(lis)\n",
    "    f.close()"
   ]
  },
  {
   "cell_type": "code",
   "execution_count": 5,
   "metadata": {},
   "outputs": [],
   "source": [
    "# 初始化csv文件\n",
    "def csvfile():\n",
    "    #首先清楚原有内容，加上表头\n",
    "    f=open('./result_进阶版.csv','w',encoding='utf-8-sig')\n",
    "    f.close()\n",
    "    save('新闻标题','发布时间','新闻链接','新闻内容')"
   ]
  },
  {
   "cell_type": "code",
   "execution_count": 6,
   "metadata": {},
   "outputs": [],
   "source": [
    "# 使用DOM节点获取网页内容\n",
    "def obtain_data(mainurl):\n",
    "    driver=Driver()\n",
    "    driver.get(mainurl)  #打开网址\n",
    "    driver.set_page_load_timeout(10)   #等待时间，根据网速情况自行设置\n",
    "    nameList=driver.find_elements_by_css_selector('.news-wrap>.news-list>li>a')\n",
    "    for i in range(0,len(nameList)):\n",
    "        href=driver.find_elements_by_css_selector('.news-wrap>.news-list>li>a')[i].get_attribute('href')\n",
    "        # 获取具体新闻链接\n",
    "        driver.get(href)\n",
    "        time.sleep(6+random.random())   #等待加载\n",
    "        name=driver.find_elements_by_css_selector('.news-title')[0].text\n",
    "        content=driver.find_elements_by_css_selector('.content-wrap>p')[0].text\n",
    "        date=driver.find_elements_by_css_selector('.news-thumbnail>span')[0].text[5:]\n",
    "        save(name,date,href,content)\n",
    "        print(name,content,date)\n",
    "        driver.get(mainurl)    #返回主界面\n",
    "        time.sleep(5+random.random())"
   ]
  },
  {
   "cell_type": "code",
   "execution_count": 7,
   "metadata": {},
   "outputs": [],
   "source": [
    "def main():\n",
    "    mainurl='http://rettc.ustb.edu.cn/zh/index.html'  #要爬取的网页\n",
    "    csvfile()    #清楚原有数据，写入表头\n",
    "    obtain_data(mainurl)     #写入爬取的信息"
   ]
  },
  {
   "cell_type": "code",
   "execution_count": 8,
   "metadata": {},
   "outputs": [
    {
     "name": "stdout",
     "output_type": "stream",
     "text": [
      "中国-加纳/赞比亚可再生能源技术转移项目2020年全球指导委员会会议在京召开 1月10日，中国-加纳/赞比亚可再生能源技术转移项目（以下简称“中非项目”）2020年全球指导委员会会议在联合国开发计划署（UNDP）驻华代表处召开。UNDP驻华国别代表白雅婷（Beate Trankmann）女士、丹麦驻华使馆公使海乐（Helle Meinertz）女士、赞比亚驻华使馆、加纳驻华使馆代表，及加纳、赞比亚项目办主要成员和UNDP驻华代表处有关人员参加了会议，中国21世纪议程管理中心技术转移南南合作中心代表参会。 2020-01-16\n",
      "中国21世纪议程管理中心招聘技术转移南南合作中心工作人员的公告 为落实《科技部与联合国开发计划署谅解备忘录》，中国21世纪议程管理中心成立了技术转移南南合作中心，旨在通过搭建技术转移平台和数据库，精准对接技术需求与供给，为南南合作伙伴提供适宜的可持续发展技术解决方案；建设技术转移领域南南合作的智库，开展战略和政策研究，探索将中国发展经验和最佳实践用于解决技术合作所面临的共性问题；建立“一带一路”沿线技术示范与推广枢纽，与沿线国家共享中国技术创新发展经验；打造技术转移能力建设基地，组织实施各国政府和联合国开发计划署等国际组织委托的技术转移和发展中国家援助项目，开展知识分享、培训交流研讨和技术示范等能力建设活动。 2019-11-29\n",
      "技术转移南南合作专家研讨会在京举行 11月19日，中国21世纪议程管理中心技术转移南南合作中心在京组织召开了技术转移南南合作专家研讨会，围绕技术转移推动发展中国家实现绿色低碳发展的目标和实施路径进行了探讨。这是技术转移南南合作中心成立以来召开的第一次专家研讨会，旨在为下一步工作重点理清思路和方向。 2019-11-29\n",
      "乌干达清洁炉灶联盟执行主任George Sizoomu一行访问21世纪中心技术转移南南合作中心 2019年10月30日，乌干达清洁炉灶联盟执行主任George Sizoomu一行到访21世纪中心技术转移南南合作中心进行座谈交流，中国农业大学和卢旺达清洁炉灶领域专家参加了座谈。 2019-11-08\n",
      "21世纪中心赴长沙参加亚太绿色低碳发展高峰论坛并开展科研项目管理调研 2019年10月16日-17日，由亚洲开发银行和湖南省政府联合主办的“亚太绿色低碳发展高峰论坛”在长沙市举行。中国气候变化事务特别代表解振华、湖南省省长许达哲、生态环境部副部长庄国泰、联合国第八任秘书长潘基文、亚洲开发银行副行长Deborah Stokes等出席了本次论坛并发表讲话和演讲，来自20多个国家和地区的600余名代表参会。 2019-11-08\n",
      "潘基文题词祝贺 “技术转移南南合作中心” 成立 2019年10月16日，在长沙出席亚太绿色低碳发展高峰论坛的联合国第八任秘书长潘基文先生为“技术转移南南合作中心”题词。他对我国持续加强科技创新南南合作，促进可持续发展给予高度评价，并表示热烈祝贺“技术转移南南合作中心”成立，希望该中心能成为推动南南科技创新合作和促进可持续发展目标实现的新平台。 2019-11-08\n",
      "技术转移南南合作中心在京正式挂牌  2019-11-08\n",
      "南南合作清洁炉灶技术培训暨发展中国家清洁炉灶产业交流会在烟台举行 2019年10月22日至23日，中国21世纪议程管理中心在烟台组织召开了“南南合作清洁炉灶技术培训暨发展中国家清洁炉灶产业交流会”。世界银行、清洁炉灶国际标准化技术委员会、乌干达清洁炉灶联盟、中国农业大学等单位专家，及山东、广东的炉灶企业代表等共计30余人参加了培训和产业交流，21世纪中心技术转移南南合作中心派代表主持了培训活动。 2019-11-08\n"
     ]
    }
   ],
   "source": [
    "main()"
   ]
  }
 ],
 "metadata": {
  "kernelspec": {
   "display_name": "Python 3",
   "language": "python",
   "name": "python3"
  },
  "language_info": {
   "codemirror_mode": {
    "name": "ipython",
    "version": 3
   },
   "file_extension": ".py",
   "mimetype": "text/x-python",
   "name": "python",
   "nbconvert_exporter": "python",
   "pygments_lexer": "ipython3",
   "version": "3.8.2"
  }
 },
 "nbformat": 4,
 "nbformat_minor": 4
}
