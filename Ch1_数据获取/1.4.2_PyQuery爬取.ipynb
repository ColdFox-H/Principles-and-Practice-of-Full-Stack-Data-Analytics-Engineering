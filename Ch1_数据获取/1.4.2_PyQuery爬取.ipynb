{
 "cells": [
  {
   "cell_type": "code",
   "execution_count": 1,
   "metadata": {},
   "outputs": [],
   "source": [
    "from pyquery import PyQuery as pq"
   ]
  },
  {
   "cell_type": "code",
   "execution_count": 2,
   "metadata": {},
   "outputs": [
    {
     "name": "stdout",
     "output_type": "stream",
     "text": [
      "<title>可再生能源技术转移中心</title>\n",
      "中国\n",
      "加纳\n",
      "赞比亚\n",
      "细节\n"
     ]
    }
   ],
   "source": [
    "doc=pq(url='http://rettc.ustb.edu.cn',encoding='utf-8')\n",
    "print(doc('title'))\n",
    "items=doc('.news-list')\n",
    "lis=items.find('a')\n",
    "for item in lis:\n",
    "    print(item.text)"
   ]
  }
 ],
 "metadata": {
  "kernelspec": {
   "display_name": "Python 3",
   "language": "python",
   "name": "python3"
  },
  "language_info": {
   "codemirror_mode": {
    "name": "ipython",
    "version": 3
   },
   "file_extension": ".py",
   "mimetype": "text/x-python",
   "name": "python",
   "nbconvert_exporter": "python",
   "pygments_lexer": "ipython3",
   "version": "3.8.2"
  }
 },
 "nbformat": 4,
 "nbformat_minor": 4
}
