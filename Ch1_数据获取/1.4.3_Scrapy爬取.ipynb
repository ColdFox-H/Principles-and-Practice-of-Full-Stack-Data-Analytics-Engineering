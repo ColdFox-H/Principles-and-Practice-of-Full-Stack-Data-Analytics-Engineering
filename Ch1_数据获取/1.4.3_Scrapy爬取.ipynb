{
 "cells": [
  {
   "cell_type": "code",
   "execution_count": 1,
   "metadata": {},
   "outputs": [],
   "source": [
    "import scrapy"
   ]
  },
  {
   "cell_type": "code",
   "execution_count": 2,
   "metadata": {},
   "outputs": [
    {
     "ename": "SyntaxError",
     "evalue": "invalid character in identifier (<ipython-input-2-0e506d5edfc7>, line 5)",
     "output_type": "error",
     "traceback": [
      "\u001b[1;36m  File \u001b[1;32m\"<ipython-input-2-0e506d5edfc7>\"\u001b[1;36m, line \u001b[1;32m5\u001b[0m\n\u001b[1;33m    for quote in response.css('div.quote')：\u001b[0m\n\u001b[1;37m                                          ^\u001b[0m\n\u001b[1;31mSyntaxError\u001b[0m\u001b[1;31m:\u001b[0m invalid character in identifier\n"
     ]
    }
   ],
   "source": [
    "class QuotesSpider(scrapy.Spider):\n",
    "    name='qoutes'\n",
    "    start_urls=['http://quotes.toscrape.com/tag/humor',]\n",
    "    def parse(self,response):\n",
    "        for quote in response.css('div.quote')：\n",
    "        "
   ]
  }
 ],
 "metadata": {
  "kernelspec": {
   "display_name": "Python 3",
   "language": "python",
   "name": "python3"
  },
  "language_info": {
   "codemirror_mode": {
    "name": "ipython",
    "version": 3
   },
   "file_extension": ".py",
   "mimetype": "text/x-python",
   "name": "python",
   "nbconvert_exporter": "python",
   "pygments_lexer": "ipython3",
   "version": "3.8.2"
  }
 },
 "nbformat": 4,
 "nbformat_minor": 4
}
