{
 "cells": [
  {
   "cell_type": "code",
   "execution_count": 1,
   "metadata": {},
   "outputs": [],
   "source": [
    "# 导入库\n",
    "import requests\n",
    "from bs4 import BeautifulSoup"
   ]
  },
  {
   "cell_type": "code",
   "execution_count": 2,
   "metadata": {},
   "outputs": [
    {
     "name": "stdout",
     "output_type": "stream",
     "text": [
      "可再生能源技术转移中心\n"
     ]
    }
   ],
   "source": [
    "url='http://rettc.ustb.edu.cn'\n",
    "headers={'User-Agent':' ','Cookie':' '}\n",
    "response=requests.get(url,headers)\n",
    "response.status_code\n",
    "\n",
    "response.encoding='utf-8'\n",
    "soup=BeautifulSoup(response.text,'lxml')\n",
    "news=soup.select('title')\n",
    "for item in news:\n",
    "    print(item.text)"
   ]
  }
 ],
 "metadata": {
  "kernelspec": {
   "display_name": "Python 3",
   "language": "python",
   "name": "python3"
  },
  "language_info": {
   "codemirror_mode": {
    "name": "ipython",
    "version": 3
   },
   "file_extension": ".py",
   "mimetype": "text/x-python",
   "name": "python",
   "nbconvert_exporter": "python",
   "pygments_lexer": "ipython3",
   "version": "3.8.2"
  }
 },
 "nbformat": 4,
 "nbformat_minor": 4
}
