{
 "cells": [
  {
   "cell_type": "code",
   "execution_count": 3,
   "metadata": {},
   "outputs": [
    {
     "name": "stdout",
     "output_type": "stream",
     "text": [
      "中国-加纳/赞比亚可再生能源技术转移项目2020年全球指导委员会会议在京召开\n",
      "中国21世纪议程管理中心招聘技术转移南南合作中心工作人员的公告\n",
      "技术转移南南合作专家研讨会在京举行\n",
      "乌干达清洁炉灶联盟执行主任George Sizoomu一行访问21世纪中心技术转移南南合作中心\n",
      "21世纪中心赴长沙参加亚太绿色低碳发展高峰论坛并开展科研项目管理调研\n",
      "潘基文题词祝贺 “技术转移南南合作中心” 成立\n",
      "技术转移南南合作中心在京正式挂牌\n",
      "南南合作清洁炉灶技术培训暨发展中国家清洁炉灶产业交流会在烟台举行\n"
     ]
    }
   ],
   "source": [
    "from selenium import webdriver\n",
    "#from selenium.webdriver.chrome.options import Options\n",
    "\n",
    "browser=webdriver.Chrome(r'C:\\Program Files (x86)\\Google\\Chrome\\Application\\chromedriver.exe')\n",
    "browser.get('http://rettc.ustb.edu.cn/')\n",
    "\n",
    "browser.set_page_load_timeout(10)   \n",
    "nameList=browser.find_elements_by_css_selector('.news-wrap>.news-list>li>a')\n",
    "for item in nameList:\n",
    "    print(item.text)\n"
   ]
  }
 ],
 "metadata": {
  "kernelspec": {
   "display_name": "Python 3",
   "language": "python",
   "name": "python3"
  },
  "language_info": {
   "codemirror_mode": {
    "name": "ipython",
    "version": 3
   },
   "file_extension": ".py",
   "mimetype": "text/x-python",
   "name": "python",
   "nbconvert_exporter": "python",
   "pygments_lexer": "ipython3",
   "version": "3.8.2"
  }
 },
 "nbformat": 4,
 "nbformat_minor": 4
}
